{
 "cells": [
  {
   "cell_type": "markdown",
   "id": "b7feece3",
   "metadata": {},
   "source": [
    "## Objective\n",
    "You have been given a task to gather data about movies from the Open Movie Database (OMDb) API and store it in a pandas dataframe. The data should include the movie title, year of release, director, and rating.\n",
    "\n",
    "### Instructions\n",
    "Go to the OMDb API website (http://www.omdbapi.com/) and obtain an API key.\n",
    "\n",
    "Install the requests and pandas libraries if you have not already done so.\n",
    "\n",
    "Use the requests library to send a request to the OMDb API to retrieve data about the top 10 movies.\n",
    "\n",
    "Parse the data using the json library to extract the title, year, director, and rating for each movie.\n",
    "\n",
    "Store the extracted data in a pandas dataframe with appropriate column names.\n",
    "\n",
    "Print the dataframe to verify that the data has been successfully stored.\n",
    "\n",
    "Note: The API key needs to be included in the request URL. The request URL for the top 10 movies is: http://www.omdbapi.com/?apikey=[YOUR_API_KEY]&s=*&type=movie&page=1. Replace [YOUR_API_KEY] with your actual API key."
   ]
  },
  {
   "cell_type": "code",
   "execution_count": 1,
   "id": "11457da1",
   "metadata": {},
   "outputs": [],
   "source": [
    "import pandas as pd\n",
    "import requests"
   ]
  },
  {
   "cell_type": "code",
   "execution_count": 2,
   "id": "d49b7ab4",
   "metadata": {},
   "outputs": [],
   "source": [
    "url = 'https://www.omdbapi.com/?apikey=6b2f4f0b&s=superman&type=movie&page=1'\n",
    "\n",
    "omdb = requests.get(url)\n"
   ]
  },
  {
   "cell_type": "code",
   "execution_count": 3,
   "id": "87df6b78",
   "metadata": {},
   "outputs": [
    {
     "data": {
      "text/plain": [
       "200"
      ]
     },
     "execution_count": 3,
     "metadata": {},
     "output_type": "execute_result"
    }
   ],
   "source": [
    "omdb.status_code"
   ]
  },
  {
   "cell_type": "code",
   "execution_count": 4,
   "id": "3b9d997d",
   "metadata": {},
   "outputs": [
    {
     "name": "stdout",
     "output_type": "stream",
     "text": [
      "{\"Search\":[{\"Title\":\"Batman v Superman: Dawn of Justice\",\"Year\":\"2016\",\"imdbID\":\"tt2975590\",\"Type\":\"movie\",\"Poster\":\"https://m.media-amazon.com/images/M/MV5BYThjYzcyYzItNTVjNy00NDk0LTgwMWQtYjMwNmNlNWJhMzMyXkEyXkFqcGdeQXVyMTQxNzMzNDI@._V1_SX300.jpg\"},{\"Title\":\"Superman Returns\",\"Year\":\"2006\",\"imdbID\":\"tt0348150\",\"Type\":\"movie\",\"Poster\":\"https://m.media-amazon.com/images/M/MV5BNzY2ZDQ2MTctYzlhOC00MWJhLTgxMmItMDgzNDQwMDdhOWI2XkEyXkFqcGdeQXVyNjc1NTYyMjg@._V1_SX300.jpg\"},{\"Title\":\"Superman\",\"Year\":\"1978\",\"imdbID\":\"tt0078346\",\"Type\":\"movie\",\"Poster\":\"https://m.media-amazon.com/images/M/MV5BMzA0YWMwMTUtMTVhNC00NjRkLWE2ZTgtOWEzNjJhYzNiMTlkXkEyXkFqcGdeQXVyNjc1NTYyMjg@._V1_SX300.jpg\"},{\"Title\":\"Superman II\",\"Year\":\"1980\",\"imdbID\":\"tt0081573\",\"Type\":\"movie\",\"Poster\":\"https://m.media-amazon.com/images/M/MV5BODk2NjgzNTEtYzZhZC00ZTBkLTllMGQtMmMxMzU1NDRkM2RlXkEyXkFqcGdeQXVyNjc1NTYyMjg@._V1_SX300.jpg\"},{\"Title\":\"Superman III\",\"Year\":\"1983\",\"imdbID\":\"tt0086393\",\"Type\":\"movie\",\"Poster\":\"https://m.media-amazon.com/images/M/MV5BMzI3ZDllMTctNmI2Mi00OGQ4LTk2ZTQtYTJhMjA5ZGI2YmRkXkEyXkFqcGdeQXVyNjUwNzk3NDc@._V1_SX300.jpg\"},{\"Title\":\"Batman v Superman: Dawn of Justice (Ultimate Edition)\",\"Year\":\"2016\",\"imdbID\":\"tt18689424\",\"Type\":\"movie\",\"Poster\":\"https://m.media-amazon.com/images/M/MV5BN2I4OTllM2MtMWVhNC00MjkzLWJlMDUtN2FhMGQ2ZGVjMjllXkEyXkFqcGdeQXVyMTEyNzgwMDUw._V1_SX300.jpg\"},{\"Title\":\"Superman IV: The Quest for Peace\",\"Year\":\"1987\",\"imdbID\":\"tt0094074\",\"Type\":\"movie\",\"Poster\":\"https://m.media-amazon.com/images/M/MV5BMmIwZWY1YTYtNDlhOS00NDRmLWI4MzItNjk2NDc1N2NhYzNlXkEyXkFqcGdeQXVyNTUyMzE4Mzg@._V1_SX300.jpg\"},{\"Title\":\"Superman/Batman: Apocalypse\",\"Year\":\"2010\",\"imdbID\":\"tt1673430\",\"Type\":\"movie\",\"Poster\":\"https://m.media-amazon.com/images/M/MV5BMjk3ODhmNjgtZjllOC00ZWZjLTkwYzQtNzc1Y2ZhMjY2ODE0XkEyXkFqcGdeQXVyNTAyODkwOQ@@._V1_SX300.jpg\"},{\"Title\":\"Superman/Batman: Public Enemies\",\"Year\":\"2009\",\"imdbID\":\"tt1398941\",\"Type\":\"movie\",\"Poster\":\"https://m.media-amazon.com/images/M/MV5BZDc5NTFiMzgtZWJiOS00N2M1LWJmOGYtZmNjMzFhMzcxZjRiXkEyXkFqcGdeQXVyNTAyODkwOQ@@._V1_SX300.jpg\"},{\"Title\":\"Superman: Doomsday\",\"Year\":\"2007\",\"imdbID\":\"tt0934706\",\"Type\":\"movie\",\"Poster\":\"https://m.media-amazon.com/images/M/MV5BMmJhN2RmMTUtMDMzMy00YTQ4LWEyZDMtOGM1NWVmMDE3NTBjXkEyXkFqcGdeQXVyNjExODE1MDc@._V1_SX300.jpg\"}],\"totalResults\":\"258\",\"Response\":\"True\"}\n"
     ]
    }
   ],
   "source": [
    "print(omdb.text)"
   ]
  },
  {
   "cell_type": "code",
   "execution_count": 5,
   "id": "7ef93bb6",
   "metadata": {},
   "outputs": [
    {
     "data": {
      "text/plain": [
       "{'Date': 'Tue, 14 Mar 2023 10:18:44 GMT', 'Content-Type': 'application/json; charset=utf-8', 'Transfer-Encoding': 'chunked', 'Connection': 'keep-alive', 'Cache-Control': 'public, max-age=86400', 'expires': 'Tue, 14 Mar 2023 11:18:44 GMT', 'last-modified': 'Tue, 14 Mar 2023 10:18:44 GMT', 'vary': '*, Accept-Encoding', 'x-aspnet-version': '4.0.30319', 'x-powered-by': 'ASP.NET', 'access-control-allow-origin': '*', 'CF-Cache-Status': 'MISS', 'Server': 'cloudflare', 'CF-RAY': '7a7bc63e3aeedd0f-LHR', 'Content-Encoding': 'gzip'}"
      ]
     },
     "execution_count": 5,
     "metadata": {},
     "output_type": "execute_result"
    }
   ],
   "source": [
    "omdb.headers"
   ]
  },
  {
   "cell_type": "code",
   "execution_count": 6,
   "id": "17e1d910",
   "metadata": {},
   "outputs": [
    {
     "data": {
      "text/plain": [
       "{'Search': [{'Title': 'Batman v Superman: Dawn of Justice',\n",
       "   'Year': '2016',\n",
       "   'imdbID': 'tt2975590',\n",
       "   'Type': 'movie',\n",
       "   'Poster': 'https://m.media-amazon.com/images/M/MV5BYThjYzcyYzItNTVjNy00NDk0LTgwMWQtYjMwNmNlNWJhMzMyXkEyXkFqcGdeQXVyMTQxNzMzNDI@._V1_SX300.jpg'},\n",
       "  {'Title': 'Superman Returns',\n",
       "   'Year': '2006',\n",
       "   'imdbID': 'tt0348150',\n",
       "   'Type': 'movie',\n",
       "   'Poster': 'https://m.media-amazon.com/images/M/MV5BNzY2ZDQ2MTctYzlhOC00MWJhLTgxMmItMDgzNDQwMDdhOWI2XkEyXkFqcGdeQXVyNjc1NTYyMjg@._V1_SX300.jpg'},\n",
       "  {'Title': 'Superman',\n",
       "   'Year': '1978',\n",
       "   'imdbID': 'tt0078346',\n",
       "   'Type': 'movie',\n",
       "   'Poster': 'https://m.media-amazon.com/images/M/MV5BMzA0YWMwMTUtMTVhNC00NjRkLWE2ZTgtOWEzNjJhYzNiMTlkXkEyXkFqcGdeQXVyNjc1NTYyMjg@._V1_SX300.jpg'},\n",
       "  {'Title': 'Superman II',\n",
       "   'Year': '1980',\n",
       "   'imdbID': 'tt0081573',\n",
       "   'Type': 'movie',\n",
       "   'Poster': 'https://m.media-amazon.com/images/M/MV5BODk2NjgzNTEtYzZhZC00ZTBkLTllMGQtMmMxMzU1NDRkM2RlXkEyXkFqcGdeQXVyNjc1NTYyMjg@._V1_SX300.jpg'},\n",
       "  {'Title': 'Superman III',\n",
       "   'Year': '1983',\n",
       "   'imdbID': 'tt0086393',\n",
       "   'Type': 'movie',\n",
       "   'Poster': 'https://m.media-amazon.com/images/M/MV5BMzI3ZDllMTctNmI2Mi00OGQ4LTk2ZTQtYTJhMjA5ZGI2YmRkXkEyXkFqcGdeQXVyNjUwNzk3NDc@._V1_SX300.jpg'},\n",
       "  {'Title': 'Batman v Superman: Dawn of Justice (Ultimate Edition)',\n",
       "   'Year': '2016',\n",
       "   'imdbID': 'tt18689424',\n",
       "   'Type': 'movie',\n",
       "   'Poster': 'https://m.media-amazon.com/images/M/MV5BN2I4OTllM2MtMWVhNC00MjkzLWJlMDUtN2FhMGQ2ZGVjMjllXkEyXkFqcGdeQXVyMTEyNzgwMDUw._V1_SX300.jpg'},\n",
       "  {'Title': 'Superman IV: The Quest for Peace',\n",
       "   'Year': '1987',\n",
       "   'imdbID': 'tt0094074',\n",
       "   'Type': 'movie',\n",
       "   'Poster': 'https://m.media-amazon.com/images/M/MV5BMmIwZWY1YTYtNDlhOS00NDRmLWI4MzItNjk2NDc1N2NhYzNlXkEyXkFqcGdeQXVyNTUyMzE4Mzg@._V1_SX300.jpg'},\n",
       "  {'Title': 'Superman/Batman: Apocalypse',\n",
       "   'Year': '2010',\n",
       "   'imdbID': 'tt1673430',\n",
       "   'Type': 'movie',\n",
       "   'Poster': 'https://m.media-amazon.com/images/M/MV5BMjk3ODhmNjgtZjllOC00ZWZjLTkwYzQtNzc1Y2ZhMjY2ODE0XkEyXkFqcGdeQXVyNTAyODkwOQ@@._V1_SX300.jpg'},\n",
       "  {'Title': 'Superman/Batman: Public Enemies',\n",
       "   'Year': '2009',\n",
       "   'imdbID': 'tt1398941',\n",
       "   'Type': 'movie',\n",
       "   'Poster': 'https://m.media-amazon.com/images/M/MV5BZDc5NTFiMzgtZWJiOS00N2M1LWJmOGYtZmNjMzFhMzcxZjRiXkEyXkFqcGdeQXVyNTAyODkwOQ@@._V1_SX300.jpg'},\n",
       "  {'Title': 'Superman: Doomsday',\n",
       "   'Year': '2007',\n",
       "   'imdbID': 'tt0934706',\n",
       "   'Type': 'movie',\n",
       "   'Poster': 'https://m.media-amazon.com/images/M/MV5BMmJhN2RmMTUtMDMzMy00YTQ4LWEyZDMtOGM1NWVmMDE3NTBjXkEyXkFqcGdeQXVyNjExODE1MDc@._V1_SX300.jpg'}],\n",
       " 'totalResults': '258',\n",
       " 'Response': 'True'}"
      ]
     },
     "execution_count": 6,
     "metadata": {},
     "output_type": "execute_result"
    }
   ],
   "source": [
    "omdb_ = omdb.json()\n",
    "\n",
    "omdb_"
   ]
  },
  {
   "cell_type": "code",
   "execution_count": 8,
   "id": "cc4425de",
   "metadata": {},
   "outputs": [
    {
     "data": {
      "text/html": [
       "<div>\n",
       "<style scoped>\n",
       "    .dataframe tbody tr th:only-of-type {\n",
       "        vertical-align: middle;\n",
       "    }\n",
       "\n",
       "    .dataframe tbody tr th {\n",
       "        vertical-align: top;\n",
       "    }\n",
       "\n",
       "    .dataframe thead th {\n",
       "        text-align: right;\n",
       "    }\n",
       "</style>\n",
       "<table border=\"1\" class=\"dataframe\">\n",
       "  <thead>\n",
       "    <tr style=\"text-align: right;\">\n",
       "      <th></th>\n",
       "      <th>Title</th>\n",
       "      <th>Year</th>\n",
       "      <th>imdbID</th>\n",
       "      <th>Type</th>\n",
       "      <th>Poster</th>\n",
       "    </tr>\n",
       "  </thead>\n",
       "  <tbody>\n",
       "    <tr>\n",
       "      <th>0</th>\n",
       "      <td>Batman v Superman: Dawn of Justice</td>\n",
       "      <td>2016</td>\n",
       "      <td>tt2975590</td>\n",
       "      <td>movie</td>\n",
       "      <td>https://m.media-amazon.com/images/M/MV5BYThjYz...</td>\n",
       "    </tr>\n",
       "    <tr>\n",
       "      <th>1</th>\n",
       "      <td>Superman Returns</td>\n",
       "      <td>2006</td>\n",
       "      <td>tt0348150</td>\n",
       "      <td>movie</td>\n",
       "      <td>https://m.media-amazon.com/images/M/MV5BNzY2ZD...</td>\n",
       "    </tr>\n",
       "    <tr>\n",
       "      <th>2</th>\n",
       "      <td>Superman</td>\n",
       "      <td>1978</td>\n",
       "      <td>tt0078346</td>\n",
       "      <td>movie</td>\n",
       "      <td>https://m.media-amazon.com/images/M/MV5BMzA0YW...</td>\n",
       "    </tr>\n",
       "    <tr>\n",
       "      <th>3</th>\n",
       "      <td>Superman II</td>\n",
       "      <td>1980</td>\n",
       "      <td>tt0081573</td>\n",
       "      <td>movie</td>\n",
       "      <td>https://m.media-amazon.com/images/M/MV5BODk2Nj...</td>\n",
       "    </tr>\n",
       "    <tr>\n",
       "      <th>4</th>\n",
       "      <td>Superman III</td>\n",
       "      <td>1983</td>\n",
       "      <td>tt0086393</td>\n",
       "      <td>movie</td>\n",
       "      <td>https://m.media-amazon.com/images/M/MV5BMzI3ZD...</td>\n",
       "    </tr>\n",
       "    <tr>\n",
       "      <th>5</th>\n",
       "      <td>Batman v Superman: Dawn of Justice (Ultimate E...</td>\n",
       "      <td>2016</td>\n",
       "      <td>tt18689424</td>\n",
       "      <td>movie</td>\n",
       "      <td>https://m.media-amazon.com/images/M/MV5BN2I4OT...</td>\n",
       "    </tr>\n",
       "    <tr>\n",
       "      <th>6</th>\n",
       "      <td>Superman IV: The Quest for Peace</td>\n",
       "      <td>1987</td>\n",
       "      <td>tt0094074</td>\n",
       "      <td>movie</td>\n",
       "      <td>https://m.media-amazon.com/images/M/MV5BMmIwZW...</td>\n",
       "    </tr>\n",
       "    <tr>\n",
       "      <th>7</th>\n",
       "      <td>Superman/Batman: Apocalypse</td>\n",
       "      <td>2010</td>\n",
       "      <td>tt1673430</td>\n",
       "      <td>movie</td>\n",
       "      <td>https://m.media-amazon.com/images/M/MV5BMjk3OD...</td>\n",
       "    </tr>\n",
       "    <tr>\n",
       "      <th>8</th>\n",
       "      <td>Superman/Batman: Public Enemies</td>\n",
       "      <td>2009</td>\n",
       "      <td>tt1398941</td>\n",
       "      <td>movie</td>\n",
       "      <td>https://m.media-amazon.com/images/M/MV5BZDc5NT...</td>\n",
       "    </tr>\n",
       "    <tr>\n",
       "      <th>9</th>\n",
       "      <td>Superman: Doomsday</td>\n",
       "      <td>2007</td>\n",
       "      <td>tt0934706</td>\n",
       "      <td>movie</td>\n",
       "      <td>https://m.media-amazon.com/images/M/MV5BMmJhN2...</td>\n",
       "    </tr>\n",
       "  </tbody>\n",
       "</table>\n",
       "</div>"
      ],
      "text/plain": [
       "                                               Title  Year      imdbID   Type  \\\n",
       "0                 Batman v Superman: Dawn of Justice  2016   tt2975590  movie   \n",
       "1                                   Superman Returns  2006   tt0348150  movie   \n",
       "2                                           Superman  1978   tt0078346  movie   \n",
       "3                                        Superman II  1980   tt0081573  movie   \n",
       "4                                       Superman III  1983   tt0086393  movie   \n",
       "5  Batman v Superman: Dawn of Justice (Ultimate E...  2016  tt18689424  movie   \n",
       "6                   Superman IV: The Quest for Peace  1987   tt0094074  movie   \n",
       "7                        Superman/Batman: Apocalypse  2010   tt1673430  movie   \n",
       "8                    Superman/Batman: Public Enemies  2009   tt1398941  movie   \n",
       "9                                 Superman: Doomsday  2007   tt0934706  movie   \n",
       "\n",
       "                                              Poster  \n",
       "0  https://m.media-amazon.com/images/M/MV5BYThjYz...  \n",
       "1  https://m.media-amazon.com/images/M/MV5BNzY2ZD...  \n",
       "2  https://m.media-amazon.com/images/M/MV5BMzA0YW...  \n",
       "3  https://m.media-amazon.com/images/M/MV5BODk2Nj...  \n",
       "4  https://m.media-amazon.com/images/M/MV5BMzI3ZD...  \n",
       "5  https://m.media-amazon.com/images/M/MV5BN2I4OT...  \n",
       "6  https://m.media-amazon.com/images/M/MV5BMmIwZW...  \n",
       "7  https://m.media-amazon.com/images/M/MV5BMjk3OD...  \n",
       "8  https://m.media-amazon.com/images/M/MV5BZDc5NT...  \n",
       "9  https://m.media-amazon.com/images/M/MV5BMmJhN2...  "
      ]
     },
     "execution_count": 8,
     "metadata": {},
     "output_type": "execute_result"
    }
   ],
   "source": [
    "omdb_df = pd.json_normalize(omdb_['Search'])\n",
    "omdb_df"
   ]
  },
  {
   "cell_type": "code",
   "execution_count": null,
   "id": "6aa5a0b6",
   "metadata": {},
   "outputs": [],
   "source": []
  }
 ],
 "metadata": {
  "kernelspec": {
   "display_name": "Python 3 (ipykernel)",
   "language": "python",
   "name": "python3"
  },
  "language_info": {
   "codemirror_mode": {
    "name": "ipython",
    "version": 3
   },
   "file_extension": ".py",
   "mimetype": "text/x-python",
   "name": "python",
   "nbconvert_exporter": "python",
   "pygments_lexer": "ipython3",
   "version": "3.9.12"
  }
 },
 "nbformat": 4,
 "nbformat_minor": 5
}
